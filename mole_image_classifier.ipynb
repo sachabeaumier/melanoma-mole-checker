{
  "nbformat": 4,
  "nbformat_minor": 0,
  "metadata": {
    "colab": {
      "provenance": []
    },
    "kernelspec": {
      "name": "python3",
      "display_name": "Python 3"
    },
    "language_info": {
      "name": "python"
    },
    "widgets": {
      "application/vnd.jupyter.widget-state+json": {
        "c1c8f2af12344013b3cfbe97cd9e18c4": {
          "model_module": "@jupyter-widgets/controls",
          "model_name": "FileUploadModel",
          "model_module_version": "1.5.0",
          "state": {
            "_counter": 1,
            "_dom_classes": [],
            "_model_module": "@jupyter-widgets/controls",
            "_model_module_version": "1.5.0",
            "_model_name": "FileUploadModel",
            "_view_count": null,
            "_view_module": "@jupyter-widgets/controls",
            "_view_module_version": "1.5.0",
            "_view_name": "FileUploadView",
            "accept": "",
            "button_style": "",
            "data": [
              null
            ],
            "description": "Upload",
            "description_tooltip": null,
            "disabled": false,
            "error": "",
            "icon": "upload",
            "layout": "IPY_MODEL_ab5511ca56e24306b41a2e7f96ec0a36",
            "metadata": [
              {
                "name": "ISIC_0012099.jpg",
                "type": "image/jpeg",
                "size": 2250873,
                "lastModified": 1589247972000
              }
            ],
            "multiple": false,
            "style": "IPY_MODEL_4cb0ad4eb67740f78edb0c225bc52b74"
          }
        },
        "ab5511ca56e24306b41a2e7f96ec0a36": {
          "model_module": "@jupyter-widgets/base",
          "model_name": "LayoutModel",
          "model_module_version": "1.2.0",
          "state": {
            "_model_module": "@jupyter-widgets/base",
            "_model_module_version": "1.2.0",
            "_model_name": "LayoutModel",
            "_view_count": null,
            "_view_module": "@jupyter-widgets/base",
            "_view_module_version": "1.2.0",
            "_view_name": "LayoutView",
            "align_content": null,
            "align_items": null,
            "align_self": null,
            "border": null,
            "bottom": null,
            "display": null,
            "flex": null,
            "flex_flow": null,
            "grid_area": null,
            "grid_auto_columns": null,
            "grid_auto_flow": null,
            "grid_auto_rows": null,
            "grid_column": null,
            "grid_gap": null,
            "grid_row": null,
            "grid_template_areas": null,
            "grid_template_columns": null,
            "grid_template_rows": null,
            "height": null,
            "justify_content": null,
            "justify_items": null,
            "left": null,
            "margin": null,
            "max_height": null,
            "max_width": null,
            "min_height": null,
            "min_width": null,
            "object_fit": null,
            "object_position": null,
            "order": null,
            "overflow": null,
            "overflow_x": null,
            "overflow_y": null,
            "padding": null,
            "right": null,
            "top": null,
            "visibility": null,
            "width": null
          }
        },
        "4cb0ad4eb67740f78edb0c225bc52b74": {
          "model_module": "@jupyter-widgets/controls",
          "model_name": "ButtonStyleModel",
          "model_module_version": "1.5.0",
          "state": {
            "_model_module": "@jupyter-widgets/controls",
            "_model_module_version": "1.5.0",
            "_model_name": "ButtonStyleModel",
            "_view_count": null,
            "_view_module": "@jupyter-widgets/base",
            "_view_module_version": "1.2.0",
            "_view_name": "StyleView",
            "button_color": null,
            "font_weight": ""
          }
        },
        "525213370ec344a396d7fe7680d6b1ac": {
          "model_module": "@jupyter-widgets/output",
          "model_name": "OutputModel",
          "model_module_version": "1.0.0",
          "state": {
            "_dom_classes": [],
            "_model_module": "@jupyter-widgets/output",
            "_model_module_version": "1.0.0",
            "_model_name": "OutputModel",
            "_view_count": null,
            "_view_module": "@jupyter-widgets/output",
            "_view_module_version": "1.0.0",
            "_view_name": "OutputView",
            "layout": "IPY_MODEL_5b379b3f246d43a8aa839c12893b56ea",
            "msg_id": "",
            "outputs": [
              {
                "output_type": "display_data",
                "data": {
                  "text/plain": "<PIL.Image.Image image mode=RGB size=128x85>",
                  "image/png": "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\n"
                },
                "metadata": {}
              }
            ]
          }
        },
        "5b379b3f246d43a8aa839c12893b56ea": {
          "model_module": "@jupyter-widgets/base",
          "model_name": "LayoutModel",
          "model_module_version": "1.2.0",
          "state": {
            "_model_module": "@jupyter-widgets/base",
            "_model_module_version": "1.2.0",
            "_model_name": "LayoutModel",
            "_view_count": null,
            "_view_module": "@jupyter-widgets/base",
            "_view_module_version": "1.2.0",
            "_view_name": "LayoutView",
            "align_content": null,
            "align_items": null,
            "align_self": null,
            "border": null,
            "bottom": null,
            "display": null,
            "flex": null,
            "flex_flow": null,
            "grid_area": null,
            "grid_auto_columns": null,
            "grid_auto_flow": null,
            "grid_auto_rows": null,
            "grid_column": null,
            "grid_gap": null,
            "grid_row": null,
            "grid_template_areas": null,
            "grid_template_columns": null,
            "grid_template_rows": null,
            "height": null,
            "justify_content": null,
            "justify_items": null,
            "left": null,
            "margin": null,
            "max_height": null,
            "max_width": null,
            "min_height": null,
            "min_width": null,
            "object_fit": null,
            "object_position": null,
            "order": null,
            "overflow": null,
            "overflow_x": null,
            "overflow_y": null,
            "padding": null,
            "right": null,
            "top": null,
            "visibility": null,
            "width": null
          }
        },
        "80d31da5220d486583a64ff0e682eff7": {
          "model_module": "@jupyter-widgets/controls",
          "model_name": "LabelModel",
          "model_module_version": "1.5.0",
          "state": {
            "_dom_classes": [],
            "_model_module": "@jupyter-widgets/controls",
            "_model_module_version": "1.5.0",
            "_model_name": "LabelModel",
            "_view_count": null,
            "_view_module": "@jupyter-widgets/controls",
            "_view_module_version": "1.5.0",
            "_view_name": "LabelView",
            "description": "",
            "description_tooltip": null,
            "layout": "IPY_MODEL_c87bfca1f9354cff97a9382ed9d33677",
            "placeholder": "​",
            "style": "IPY_MODEL_6b920d7709bd4e778e7e7fae7a5b4b58",
            "value": "Prediction: melanoma; Probability: 0.5717"
          }
        },
        "c87bfca1f9354cff97a9382ed9d33677": {
          "model_module": "@jupyter-widgets/base",
          "model_name": "LayoutModel",
          "model_module_version": "1.2.0",
          "state": {
            "_model_module": "@jupyter-widgets/base",
            "_model_module_version": "1.2.0",
            "_model_name": "LayoutModel",
            "_view_count": null,
            "_view_module": "@jupyter-widgets/base",
            "_view_module_version": "1.2.0",
            "_view_name": "LayoutView",
            "align_content": null,
            "align_items": null,
            "align_self": null,
            "border": null,
            "bottom": null,
            "display": null,
            "flex": null,
            "flex_flow": null,
            "grid_area": null,
            "grid_auto_columns": null,
            "grid_auto_flow": null,
            "grid_auto_rows": null,
            "grid_column": null,
            "grid_gap": null,
            "grid_row": null,
            "grid_template_areas": null,
            "grid_template_columns": null,
            "grid_template_rows": null,
            "height": null,
            "justify_content": null,
            "justify_items": null,
            "left": null,
            "margin": null,
            "max_height": null,
            "max_width": null,
            "min_height": null,
            "min_width": null,
            "object_fit": null,
            "object_position": null,
            "order": null,
            "overflow": null,
            "overflow_x": null,
            "overflow_y": null,
            "padding": null,
            "right": null,
            "top": null,
            "visibility": null,
            "width": null
          }
        },
        "6b920d7709bd4e778e7e7fae7a5b4b58": {
          "model_module": "@jupyter-widgets/controls",
          "model_name": "DescriptionStyleModel",
          "model_module_version": "1.5.0",
          "state": {
            "_model_module": "@jupyter-widgets/controls",
            "_model_module_version": "1.5.0",
            "_model_name": "DescriptionStyleModel",
            "_view_count": null,
            "_view_module": "@jupyter-widgets/base",
            "_view_module_version": "1.2.0",
            "_view_name": "StyleView",
            "description_width": ""
          }
        },
        "94f75113cc0342d3bf243ffeb9e8adbb": {
          "model_module": "@jupyter-widgets/controls",
          "model_name": "ButtonModel",
          "model_module_version": "1.5.0",
          "state": {
            "_dom_classes": [],
            "_model_module": "@jupyter-widgets/controls",
            "_model_module_version": "1.5.0",
            "_model_name": "ButtonModel",
            "_view_count": null,
            "_view_module": "@jupyter-widgets/controls",
            "_view_module_version": "1.5.0",
            "_view_name": "ButtonView",
            "button_style": "",
            "description": "Classify",
            "disabled": false,
            "icon": "",
            "layout": "IPY_MODEL_ad2304df4f8d4ee7a84df01ec4c70c46",
            "style": "IPY_MODEL_fa7ec30882f44c888b159df1a701681c",
            "tooltip": ""
          }
        },
        "ad2304df4f8d4ee7a84df01ec4c70c46": {
          "model_module": "@jupyter-widgets/base",
          "model_name": "LayoutModel",
          "model_module_version": "1.2.0",
          "state": {
            "_model_module": "@jupyter-widgets/base",
            "_model_module_version": "1.2.0",
            "_model_name": "LayoutModel",
            "_view_count": null,
            "_view_module": "@jupyter-widgets/base",
            "_view_module_version": "1.2.0",
            "_view_name": "LayoutView",
            "align_content": null,
            "align_items": null,
            "align_self": null,
            "border": null,
            "bottom": null,
            "display": null,
            "flex": null,
            "flex_flow": null,
            "grid_area": null,
            "grid_auto_columns": null,
            "grid_auto_flow": null,
            "grid_auto_rows": null,
            "grid_column": null,
            "grid_gap": null,
            "grid_row": null,
            "grid_template_areas": null,
            "grid_template_columns": null,
            "grid_template_rows": null,
            "height": null,
            "justify_content": null,
            "justify_items": null,
            "left": null,
            "margin": null,
            "max_height": null,
            "max_width": null,
            "min_height": null,
            "min_width": null,
            "object_fit": null,
            "object_position": null,
            "order": null,
            "overflow": null,
            "overflow_x": null,
            "overflow_y": null,
            "padding": null,
            "right": null,
            "top": null,
            "visibility": null,
            "width": null
          }
        },
        "fa7ec30882f44c888b159df1a701681c": {
          "model_module": "@jupyter-widgets/controls",
          "model_name": "ButtonStyleModel",
          "model_module_version": "1.5.0",
          "state": {
            "_model_module": "@jupyter-widgets/controls",
            "_model_module_version": "1.5.0",
            "_model_name": "ButtonStyleModel",
            "_view_count": null,
            "_view_module": "@jupyter-widgets/base",
            "_view_module_version": "1.2.0",
            "_view_name": "StyleView",
            "button_color": null,
            "font_weight": ""
          }
        },
        "e4b31ca28afe46189424b6bad3656fb7": {
          "model_module": "@jupyter-widgets/controls",
          "model_name": "VBoxModel",
          "model_module_version": "1.5.0",
          "state": {
            "_dom_classes": [],
            "_model_module": "@jupyter-widgets/controls",
            "_model_module_version": "1.5.0",
            "_model_name": "VBoxModel",
            "_view_count": null,
            "_view_module": "@jupyter-widgets/controls",
            "_view_module_version": "1.5.0",
            "_view_name": "VBoxView",
            "box_style": "",
            "children": [
              "IPY_MODEL_21c40c0ef82445a9807521c20052b9ca",
              "IPY_MODEL_f137263d949444f69c7f3634f6afa1e7",
              "IPY_MODEL_94f75113cc0342d3bf243ffeb9e8adbb",
              "IPY_MODEL_525213370ec344a396d7fe7680d6b1ac",
              "IPY_MODEL_80d31da5220d486583a64ff0e682eff7"
            ],
            "layout": "IPY_MODEL_d80efc4148e7474bab7a8d26df55bc2e"
          }
        },
        "21c40c0ef82445a9807521c20052b9ca": {
          "model_module": "@jupyter-widgets/controls",
          "model_name": "LabelModel",
          "model_module_version": "1.5.0",
          "state": {
            "_dom_classes": [],
            "_model_module": "@jupyter-widgets/controls",
            "_model_module_version": "1.5.0",
            "_model_name": "LabelModel",
            "_view_count": null,
            "_view_module": "@jupyter-widgets/controls",
            "_view_module_version": "1.5.0",
            "_view_name": "LabelView",
            "description": "",
            "description_tooltip": null,
            "layout": "IPY_MODEL_6e248b944048420a852d7e0bddb2f4f4",
            "placeholder": "​",
            "style": "IPY_MODEL_8f25c61f6a8642b99ae16e82e5814faa",
            "value": "Check your mole"
          }
        },
        "f137263d949444f69c7f3634f6afa1e7": {
          "model_module": "@jupyter-widgets/controls",
          "model_name": "FileUploadModel",
          "model_module_version": "1.5.0",
          "state": {
            "_counter": 0,
            "_dom_classes": [],
            "_model_module": "@jupyter-widgets/controls",
            "_model_module_version": "1.5.0",
            "_model_name": "FileUploadModel",
            "_view_count": null,
            "_view_module": "@jupyter-widgets/controls",
            "_view_module_version": "1.5.0",
            "_view_name": "FileUploadView",
            "accept": "",
            "button_style": "",
            "data": [],
            "description": "Upload",
            "description_tooltip": null,
            "disabled": false,
            "error": "",
            "icon": "upload",
            "layout": "IPY_MODEL_c1b7ff2f020249a583e28be0b372ad68",
            "metadata": [],
            "multiple": false,
            "style": "IPY_MODEL_2e2a750e4b0c4352bff5e63f10516791"
          }
        },
        "d80efc4148e7474bab7a8d26df55bc2e": {
          "model_module": "@jupyter-widgets/base",
          "model_name": "LayoutModel",
          "model_module_version": "1.2.0",
          "state": {
            "_model_module": "@jupyter-widgets/base",
            "_model_module_version": "1.2.0",
            "_model_name": "LayoutModel",
            "_view_count": null,
            "_view_module": "@jupyter-widgets/base",
            "_view_module_version": "1.2.0",
            "_view_name": "LayoutView",
            "align_content": null,
            "align_items": null,
            "align_self": null,
            "border": null,
            "bottom": null,
            "display": null,
            "flex": null,
            "flex_flow": null,
            "grid_area": null,
            "grid_auto_columns": null,
            "grid_auto_flow": null,
            "grid_auto_rows": null,
            "grid_column": null,
            "grid_gap": null,
            "grid_row": null,
            "grid_template_areas": null,
            "grid_template_columns": null,
            "grid_template_rows": null,
            "height": null,
            "justify_content": null,
            "justify_items": null,
            "left": null,
            "margin": null,
            "max_height": null,
            "max_width": null,
            "min_height": null,
            "min_width": null,
            "object_fit": null,
            "object_position": null,
            "order": null,
            "overflow": null,
            "overflow_x": null,
            "overflow_y": null,
            "padding": null,
            "right": null,
            "top": null,
            "visibility": null,
            "width": null
          }
        },
        "6e248b944048420a852d7e0bddb2f4f4": {
          "model_module": "@jupyter-widgets/base",
          "model_name": "LayoutModel",
          "model_module_version": "1.2.0",
          "state": {
            "_model_module": "@jupyter-widgets/base",
            "_model_module_version": "1.2.0",
            "_model_name": "LayoutModel",
            "_view_count": null,
            "_view_module": "@jupyter-widgets/base",
            "_view_module_version": "1.2.0",
            "_view_name": "LayoutView",
            "align_content": null,
            "align_items": null,
            "align_self": null,
            "border": null,
            "bottom": null,
            "display": null,
            "flex": null,
            "flex_flow": null,
            "grid_area": null,
            "grid_auto_columns": null,
            "grid_auto_flow": null,
            "grid_auto_rows": null,
            "grid_column": null,
            "grid_gap": null,
            "grid_row": null,
            "grid_template_areas": null,
            "grid_template_columns": null,
            "grid_template_rows": null,
            "height": null,
            "justify_content": null,
            "justify_items": null,
            "left": null,
            "margin": null,
            "max_height": null,
            "max_width": null,
            "min_height": null,
            "min_width": null,
            "object_fit": null,
            "object_position": null,
            "order": null,
            "overflow": null,
            "overflow_x": null,
            "overflow_y": null,
            "padding": null,
            "right": null,
            "top": null,
            "visibility": null,
            "width": null
          }
        },
        "8f25c61f6a8642b99ae16e82e5814faa": {
          "model_module": "@jupyter-widgets/controls",
          "model_name": "DescriptionStyleModel",
          "model_module_version": "1.5.0",
          "state": {
            "_model_module": "@jupyter-widgets/controls",
            "_model_module_version": "1.5.0",
            "_model_name": "DescriptionStyleModel",
            "_view_count": null,
            "_view_module": "@jupyter-widgets/base",
            "_view_module_version": "1.2.0",
            "_view_name": "StyleView",
            "description_width": ""
          }
        },
        "c1b7ff2f020249a583e28be0b372ad68": {
          "model_module": "@jupyter-widgets/base",
          "model_name": "LayoutModel",
          "model_module_version": "1.2.0",
          "state": {
            "_model_module": "@jupyter-widgets/base",
            "_model_module_version": "1.2.0",
            "_model_name": "LayoutModel",
            "_view_count": null,
            "_view_module": "@jupyter-widgets/base",
            "_view_module_version": "1.2.0",
            "_view_name": "LayoutView",
            "align_content": null,
            "align_items": null,
            "align_self": null,
            "border": null,
            "bottom": null,
            "display": null,
            "flex": null,
            "flex_flow": null,
            "grid_area": null,
            "grid_auto_columns": null,
            "grid_auto_flow": null,
            "grid_auto_rows": null,
            "grid_column": null,
            "grid_gap": null,
            "grid_row": null,
            "grid_template_areas": null,
            "grid_template_columns": null,
            "grid_template_rows": null,
            "height": null,
            "justify_content": null,
            "justify_items": null,
            "left": null,
            "margin": null,
            "max_height": null,
            "max_width": null,
            "min_height": null,
            "min_width": null,
            "object_fit": null,
            "object_position": null,
            "order": null,
            "overflow": null,
            "overflow_x": null,
            "overflow_y": null,
            "padding": null,
            "right": null,
            "top": null,
            "visibility": null,
            "width": null
          }
        },
        "2e2a750e4b0c4352bff5e63f10516791": {
          "model_module": "@jupyter-widgets/controls",
          "model_name": "ButtonStyleModel",
          "model_module_version": "1.5.0",
          "state": {
            "_model_module": "@jupyter-widgets/controls",
            "_model_module_version": "1.5.0",
            "_model_name": "ButtonStyleModel",
            "_view_count": null,
            "_view_module": "@jupyter-widgets/base",
            "_view_module_version": "1.2.0",
            "_view_name": "StyleView",
            "button_color": null,
            "font_weight": ""
          }
        }
      }
    }
  },
  "cells": [
    {
      "cell_type": "markdown",
      "source": [
        "First, import the appropriate Deep Learning FastAI libraries and dependencies"
      ],
      "metadata": {
        "id": "2PZdiybWWPrl"
      }
    },
    {
      "cell_type": "code",
      "execution_count": 6,
      "metadata": {
        "id": "XuI4O7zOyvaf"
      },
      "outputs": [],
      "source": [
        "! [ -e /content ] && pip install -Uqq fastbook\n",
        "import fastbook\n",
        "fastbook.setup_book()"
      ]
    },
    {
      "cell_type": "markdown",
      "source": [
        "Run the next block in order to initialize libraries as variables that can be used\n"
      ],
      "metadata": {
        "id": "S-iUKy-fWdWG"
      }
    },
    {
      "cell_type": "code",
      "source": [
        "from fastbook import *\n",
        "from fastai.vision.widgets import *"
      ],
      "metadata": {
        "id": "9Am7ZPmcWqnh"
      },
      "execution_count": 7,
      "outputs": []
    },
    {
      "cell_type": "markdown",
      "source": [
        "Now define appropriate label categories for the dependent variable we are targetting for. In this case we are seeking to identify moles that can be classified as either 'melanoma', 'nevus' or 'seborrheic keratosis'. Melanoma would be considered cancerous and if found, would be advised to see a doctor/dermatologist. Nevus moles are considered borderline and has the capacity to turn Melanomic (advise would be to keep track of the moles and see if they change in the future as there is possibility for a Nevus mole to become Melanomic). Seborrheic Keratosis is considered non-cancerous."
      ],
      "metadata": {
        "id": "nGuIMXMLWujG"
      }
    },
    {
      "cell_type": "code",
      "source": [
        "mole_types = 'melanoma','nevus','seborrheic_keratosis'\n",
        "path = Path('data')"
      ],
      "metadata": {
        "id": "hGqHNC2JtPv0"
      },
      "execution_count": 8,
      "outputs": []
    },
    {
      "cell_type": "markdown",
      "source": [
        "Initializing the Dataloaders"
      ],
      "metadata": {
        "id": "nGazeVNNW_aP"
      }
    },
    {
      "cell_type": "code",
      "source": [
        "class DataLoaders(GetAttr):\n",
        "    def __init__(self, *loaders): self.loaders = loaders\n",
        "    def __getitem__(self, i): return self.loaders[i]\n",
        "    train,valid = add_props(lambda i,self: self[i])"
      ],
      "metadata": {
        "id": "2aPpeUmOtmEd"
      },
      "execution_count": 9,
      "outputs": []
    },
    {
      "cell_type": "markdown",
      "source": [
        "Initialize the DataBlock - this will split the training data into training and validation set whereby 20% (0.2) of the aggregate data will be allocated for validation purposes. the get_y function will retrieve parent or categorical labels from the folder names. item_tfrms as set to an empty array means that the images used within the DataBlock will not be resized and left as default (this is appropriate given the data set we are using has already undergone data wrangling and cleaning).\n"
      ],
      "metadata": {
        "id": "2wfqGdSbXB9y"
      }
    },
    {
      "cell_type": "code",
      "execution_count": 10,
      "metadata": {
        "id": "BQdiWfyBEBVS"
      },
      "outputs": [],
      "source": [
        "moles = DataBlock(\n",
        "    blocks=(ImageBlock, CategoryBlock),\n",
        "    get_items=get_image_files,\n",
        "    splitter=RandomSplitter(valid_pct=0.2, seed=42),\n",
        "    get_y=parent_label,\n",
        "    item_tfms=[])\n",
        "\n"
      ]
    },
    {
      "cell_type": "markdown",
      "source": [
        "Set up the transformation of mole data into the DeepLearning model.\n"
      ],
      "metadata": {
        "id": "wlN-pvPcbkJh"
      }
    },
    {
      "cell_type": "code",
      "execution_count": 13,
      "metadata": {
        "id": "UQs7LEtQv1hA"
      },
      "outputs": [],
      "source": [
        "moles = moles.new(\n",
        "    item_tfms=RandomResizedCrop(224 ,min_scale=0.5),\n",
        "    batch_tfms=aug_transforms())\n",
        "dls = moles.dataloaders(path)"
      ]
    },
    {
      "cell_type": "markdown",
      "source": [
        "utilizing PIL from the imported ImageFile library fixes an internal GPU error within Google Colabs. Please run this block before running the 'learn' blocks."
      ],
      "metadata": {
        "id": "llMEhLjGd5KU"
      }
    },
    {
      "cell_type": "code",
      "source": [
        "from PIL import ImageFile\n",
        "ImageFile.LOAD_TRUNCATED_IMAGES = True"
      ],
      "metadata": {
        "id": "7qfTUNr_Bq7t"
      },
      "execution_count": 14,
      "outputs": []
    },
    {
      "cell_type": "markdown",
      "source": [
        "We will use the Resnet18 CNN Deeplearning model for the purposes of this Image Classifer.\n"
      ],
      "metadata": {
        "id": "ha8IhTxqeH38"
      }
    },
    {
      "cell_type": "code",
      "source": [
        "learn = vision_learner(dls, resnet18, metrics=error_rate)"
      ],
      "metadata": {
        "colab": {
          "base_uri": "https://localhost:8080/"
        },
        "id": "p7ZHtwAseJc_",
        "outputId": "38945cc6-b226-43e4-a02f-09a509af75a1"
      },
      "execution_count": 15,
      "outputs": [
        {
          "output_type": "stream",
          "name": "stderr",
          "text": [
            "/usr/local/lib/python3.10/dist-packages/torchvision/models/_utils.py:208: UserWarning: The parameter 'pretrained' is deprecated since 0.13 and may be removed in the future, please use 'weights' instead.\n",
            "  warnings.warn(\n",
            "/usr/local/lib/python3.10/dist-packages/torchvision/models/_utils.py:223: UserWarning: Arguments other than a weight enum or `None` for 'weights' are deprecated since 0.13 and may be removed in the future. The current behavior is equivalent to passing `weights=ResNet18_Weights.IMAGENET1K_V1`. You can also use `weights=ResNet18_Weights.DEFAULT` to get the most up-to-date weights.\n",
            "  warnings.warn(msg)\n",
            "Downloading: \"https://download.pytorch.org/models/resnet18-f37072fd.pth\" to /root/.cache/torch/hub/checkpoints/resnet18-f37072fd.pth\n",
            "100%|██████████| 44.7M/44.7M [00:00<00:00, 186MB/s]\n"
          ]
        }
      ]
    },
    {
      "cell_type": "markdown",
      "source": [
        "Fine tune the model. From the values given, a good initial number of iterations for fine tuning would be 7. Anymore than 7 would incur overfitting as per the increasing value in the error value rate."
      ],
      "metadata": {
        "id": "KYel7nqceQOY"
      }
    },
    {
      "cell_type": "code",
      "source": [
        "learn.fine_tune(11)"
      ],
      "metadata": {
        "colab": {
          "base_uri": "https://localhost:8080/",
          "height": 458
        },
        "id": "GnB_ju9yeQuE",
        "outputId": "9c8b5d22-f458-4f26-e79c-27bc95371494"
      },
      "execution_count": 16,
      "outputs": [
        {
          "output_type": "display_data",
          "data": {
            "text/plain": [
              "<IPython.core.display.HTML object>"
            ],
            "text/html": [
              "\n",
              "<style>\n",
              "    /* Turns off some styling */\n",
              "    progress {\n",
              "        /* gets rid of default border in Firefox and Opera. */\n",
              "        border: none;\n",
              "        /* Needs to be in here for Safari polyfill so background images work as expected. */\n",
              "        background-size: auto;\n",
              "    }\n",
              "    progress:not([value]), progress:not([value])::-webkit-progress-bar {\n",
              "        background: repeating-linear-gradient(45deg, #7e7e7e, #7e7e7e 10px, #5c5c5c 10px, #5c5c5c 20px);\n",
              "    }\n",
              "    .progress-bar-interrupted, .progress-bar-interrupted::-webkit-progress-bar {\n",
              "        background: #F44336;\n",
              "    }\n",
              "</style>\n"
            ]
          },
          "metadata": {}
        },
        {
          "output_type": "display_data",
          "data": {
            "text/plain": [
              "<IPython.core.display.HTML object>"
            ],
            "text/html": [
              "<table border=\"1\" class=\"dataframe\">\n",
              "  <thead>\n",
              "    <tr style=\"text-align: left;\">\n",
              "      <th>epoch</th>\n",
              "      <th>train_loss</th>\n",
              "      <th>valid_loss</th>\n",
              "      <th>error_rate</th>\n",
              "      <th>time</th>\n",
              "    </tr>\n",
              "  </thead>\n",
              "  <tbody>\n",
              "    <tr>\n",
              "      <td>0</td>\n",
              "      <td>1.519532</td>\n",
              "      <td>1.048873</td>\n",
              "      <td>0.289720</td>\n",
              "      <td>02:00</td>\n",
              "    </tr>\n",
              "  </tbody>\n",
              "</table>"
            ]
          },
          "metadata": {}
        },
        {
          "output_type": "display_data",
          "data": {
            "text/plain": [
              "<IPython.core.display.HTML object>"
            ],
            "text/html": [
              "\n",
              "<style>\n",
              "    /* Turns off some styling */\n",
              "    progress {\n",
              "        /* gets rid of default border in Firefox and Opera. */\n",
              "        border: none;\n",
              "        /* Needs to be in here for Safari polyfill so background images work as expected. */\n",
              "        background-size: auto;\n",
              "    }\n",
              "    progress:not([value]), progress:not([value])::-webkit-progress-bar {\n",
              "        background: repeating-linear-gradient(45deg, #7e7e7e, #7e7e7e 10px, #5c5c5c 10px, #5c5c5c 20px);\n",
              "    }\n",
              "    .progress-bar-interrupted, .progress-bar-interrupted::-webkit-progress-bar {\n",
              "        background: #F44336;\n",
              "    }\n",
              "</style>\n"
            ]
          },
          "metadata": {}
        },
        {
          "output_type": "display_data",
          "data": {
            "text/plain": [
              "<IPython.core.display.HTML object>"
            ],
            "text/html": [
              "<table border=\"1\" class=\"dataframe\">\n",
              "  <thead>\n",
              "    <tr style=\"text-align: left;\">\n",
              "      <th>epoch</th>\n",
              "      <th>train_loss</th>\n",
              "      <th>valid_loss</th>\n",
              "      <th>error_rate</th>\n",
              "      <th>time</th>\n",
              "    </tr>\n",
              "  </thead>\n",
              "  <tbody>\n",
              "    <tr>\n",
              "      <td>0</td>\n",
              "      <td>1.071956</td>\n",
              "      <td>0.774227</td>\n",
              "      <td>0.280374</td>\n",
              "      <td>02:09</td>\n",
              "    </tr>\n",
              "    <tr>\n",
              "      <td>1</td>\n",
              "      <td>0.997465</td>\n",
              "      <td>0.669280</td>\n",
              "      <td>0.252336</td>\n",
              "      <td>02:08</td>\n",
              "    </tr>\n",
              "    <tr>\n",
              "      <td>2</td>\n",
              "      <td>0.865592</td>\n",
              "      <td>0.560839</td>\n",
              "      <td>0.214953</td>\n",
              "      <td>02:07</td>\n",
              "    </tr>\n",
              "    <tr>\n",
              "      <td>3</td>\n",
              "      <td>0.761639</td>\n",
              "      <td>0.441476</td>\n",
              "      <td>0.140187</td>\n",
              "      <td>02:13</td>\n",
              "    </tr>\n",
              "    <tr>\n",
              "      <td>4</td>\n",
              "      <td>0.686778</td>\n",
              "      <td>0.475970</td>\n",
              "      <td>0.121495</td>\n",
              "      <td>02:10</td>\n",
              "    </tr>\n",
              "    <tr>\n",
              "      <td>5</td>\n",
              "      <td>0.617397</td>\n",
              "      <td>0.547126</td>\n",
              "      <td>0.158879</td>\n",
              "      <td>02:07</td>\n",
              "    </tr>\n",
              "    <tr>\n",
              "      <td>6</td>\n",
              "      <td>0.561861</td>\n",
              "      <td>0.469450</td>\n",
              "      <td>0.102804</td>\n",
              "      <td>02:05</td>\n",
              "    </tr>\n",
              "    <tr>\n",
              "      <td>7</td>\n",
              "      <td>0.513308</td>\n",
              "      <td>0.443799</td>\n",
              "      <td>0.112150</td>\n",
              "      <td>02:05</td>\n",
              "    </tr>\n",
              "    <tr>\n",
              "      <td>8</td>\n",
              "      <td>0.471133</td>\n",
              "      <td>0.458311</td>\n",
              "      <td>0.121495</td>\n",
              "      <td>02:09</td>\n",
              "    </tr>\n",
              "    <tr>\n",
              "      <td>9</td>\n",
              "      <td>0.444161</td>\n",
              "      <td>0.464220</td>\n",
              "      <td>0.140187</td>\n",
              "      <td>02:06</td>\n",
              "    </tr>\n",
              "    <tr>\n",
              "      <td>10</td>\n",
              "      <td>0.424730</td>\n",
              "      <td>0.465459</td>\n",
              "      <td>0.140187</td>\n",
              "      <td>02:05</td>\n",
              "    </tr>\n",
              "  </tbody>\n",
              "</table>"
            ]
          },
          "metadata": {}
        }
      ]
    },
    {
      "cell_type": "markdown",
      "source": [
        "Vizualise the above tabular data into a plot graph in order to see where the validation loss values versus training loss values. Where the value of the Valid Loss is higher than the Train Loss, then the threshold for overfitting may have occurred.\n"
      ],
      "metadata": {
        "id": "DB58Jv7rveuD"
      }
    },
    {
      "cell_type": "code",
      "source": [
        "learn.recorder.plot_loss()"
      ],
      "metadata": {
        "colab": {
          "base_uri": "https://localhost:8080/",
          "height": 439
        },
        "id": "0Elfc3o-lHB7",
        "outputId": "a8116fdc-f614-45b5-8197-170806122c2f"
      },
      "execution_count": 19,
      "outputs": [
        {
          "output_type": "display_data",
          "data": {
            "text/plain": [
              "<Figure size 640x480 with 1 Axes>"
            ],
            "image/png": "[encoded data removed]"
          },
          "metadata": {}
        }
      ]
    },
    {
      "cell_type": "markdown",
      "source": [
        "Vizuale the accuracy of our deep learning model by using a confusion matrix as to see how many True Positives and False Negatives occur when checking the valid accuracy of mole identification"
      ],
      "metadata": {
        "id": "cM6CDfH3v_y_"
      }
    },
    {
      "cell_type": "code",
      "source": [
        "interp = ClassificationInterpretation.from_learner(learn)\n",
        "interp.plot_confusion_matrix()"
      ],
      "metadata": {
        "colab": {
          "base_uri": "https://localhost:8080/",
          "height": 504
        },
        "id": "ZRrNrsU4lZy8",
        "outputId": "61014b6f-af30-40da-886c-89598d8a18fc"
      },
      "execution_count": 20,
      "outputs": [
        {
          "output_type": "display_data",
          "data": {
            "text/plain": [
              "<IPython.core.display.HTML object>"
            ],
            "text/html": [
              "\n",
              "<style>\n",
              "    /* Turns off some styling */\n",
              "    progress {\n",
              "        /* gets rid of default border in Firefox and Opera. */\n",
              "        border: none;\n",
              "        /* Needs to be in here for Safari polyfill so background images work as expected. */\n",
              "        background-size: auto;\n",
              "    }\n",
              "    progress:not([value]), progress:not([value])::-webkit-progress-bar {\n",
              "        background: repeating-linear-gradient(45deg, #7e7e7e, #7e7e7e 10px, #5c5c5c 10px, #5c5c5c 20px);\n",
              "    }\n",
              "    .progress-bar-interrupted, .progress-bar-interrupted::-webkit-progress-bar {\n",
              "        background: #F44336;\n",
              "    }\n",
              "</style>\n"
            ]
          },
          "metadata": {}
        },
        {
          "output_type": "display_data",
          "data": {
            "text/plain": [
              "<IPython.core.display.HTML object>"
            ],
            "text/html": []
          },
          "metadata": {}
        },
        {
          "output_type": "display_data",
          "data": {
            "text/plain": [
              "<IPython.core.display.HTML object>"
            ],
            "text/html": [
              "\n",
              "<style>\n",
              "    /* Turns off some styling */\n",
              "    progress {\n",
              "        /* gets rid of default border in Firefox and Opera. */\n",
              "        border: none;\n",
              "        /* Needs to be in here for Safari polyfill so background images work as expected. */\n",
              "        background-size: auto;\n",
              "    }\n",
              "    progress:not([value]), progress:not([value])::-webkit-progress-bar {\n",
              "        background: repeating-linear-gradient(45deg, #7e7e7e, #7e7e7e 10px, #5c5c5c 10px, #5c5c5c 20px);\n",
              "    }\n",
              "    .progress-bar-interrupted, .progress-bar-interrupted::-webkit-progress-bar {\n",
              "        background: #F44336;\n",
              "    }\n",
              "</style>\n"
            ]
          },
          "metadata": {}
        },
        {
          "output_type": "display_data",
          "data": {
            "text/plain": [
              "<IPython.core.display.HTML object>"
            ],
            "text/html": []
          },
          "metadata": {}
        },
        {
          "output_type": "display_data",
          "data": {
            "text/plain": [
              "<Figure size 640x480 with 1 Axes>"
            ],
            "image/png": "[encoded data removed]"
          },
          "metadata": {}
        }
      ]
    },
    {
      "cell_type": "code",
      "source": [
        "learn.export()"
      ],
      "metadata": {
        "id": "0wqAu18klpky"
      },
      "execution_count": 21,
      "outputs": []
    },
    {
      "cell_type": "code",
      "execution_count": 22,
      "metadata": {
        "id": "ZPlyoa-vEBVV",
        "outputId": "9c695bcc-4289-4ec8-898d-9da1f3ea6e25",
        "colab": {
          "base_uri": "https://localhost:8080/"
        }
      },
      "outputs": [
        {
          "output_type": "execute_result",
          "data": {
            "text/plain": [
              "(#1) [Path('export.pkl')]"
            ]
          },
          "metadata": {},
          "execution_count": 22
        }
      ],
      "source": [
        "path = Path()\n",
        "path.ls(file_exts='.pkl')"
      ]
    },
    {
      "cell_type": "code",
      "execution_count": 23,
      "metadata": {
        "id": "tTvcAg-kEBVW"
      },
      "outputs": [],
      "source": [
        "learn_inf = load_learner(path/'export.pkl')"
      ]
    },
    {
      "cell_type": "code",
      "execution_count": 40,
      "metadata": {
        "colab": {
          "referenced_widgets": [
            "c1c8f2af12344013b3cfbe97cd9e18c4",
            "ab5511ca56e24306b41a2e7f96ec0a36",
            "4cb0ad4eb67740f78edb0c225bc52b74"
          ],
          "base_uri": "https://localhost:8080/",
          "height": 49
        },
        "id": "Um4TP1RSEBVW",
        "outputId": "9457e722-f760-4ff9-a928-315d12fab3f9"
      },
      "outputs": [
        {
          "output_type": "display_data",
          "data": {
            "text/plain": [
              "FileUpload(value={}, description='Upload')"
            ],
            "application/vnd.jupyter.widget-view+json": {
              "version_major": 2,
              "version_minor": 0,
              "model_id": "c1c8f2af12344013b3cfbe97cd9e18c4"
            }
          },
          "metadata": {}
        }
      ],
      "source": [
        "#hide_output\n",
        "btn_upload = widgets.FileUpload()\n",
        "btn_upload"
      ]
    },
    {
      "cell_type": "code",
      "source": [
        "img = PILImage.create(btn_upload.data[-1])"
      ],
      "metadata": {
        "id": "zdkvEcCupv3x"
      },
      "execution_count": 42,
      "outputs": []
    },
    {
      "cell_type": "code",
      "execution_count": 43,
      "metadata": {
        "id": "Atb_JGGeEBVX",
        "colab": {
          "base_uri": "https://localhost:8080/",
          "height": 102,
          "referenced_widgets": [
            "525213370ec344a396d7fe7680d6b1ac",
            "5b379b3f246d43a8aa839c12893b56ea"
          ]
        },
        "outputId": "1589ac78-8c48-473c-f635-ae3b20efb8bb"
      },
      "outputs": [
        {
          "output_type": "display_data",
          "data": {
            "text/plain": [
              "Output()"
            ],
            "application/vnd.jupyter.widget-view+json": {
              "version_major": 2,
              "version_minor": 0,
              "model_id": "525213370ec344a396d7fe7680d6b1ac"
            }
          },
          "metadata": {}
        }
      ],
      "source": [
        "#hide_output\n",
        "out_pl = widgets.Output()\n",
        "out_pl.clear_output()\n",
        "with out_pl: display(img.to_thumb(128,128))\n",
        "out_pl"
      ]
    },
    {
      "cell_type": "code",
      "source": [
        "pred,pred_idx,probs = learn_inf.predict(img)"
      ],
      "metadata": {
        "colab": {
          "base_uri": "https://localhost:8080/",
          "height": 17
        },
        "id": "ClKsKq5prWmD",
        "outputId": "53f6e2cb-fab6-4a31-cbe6-eee5a3b99137"
      },
      "execution_count": 44,
      "outputs": [
        {
          "output_type": "display_data",
          "data": {
            "text/plain": [
              "<IPython.core.display.HTML object>"
            ],
            "text/html": [
              "\n",
              "<style>\n",
              "    /* Turns off some styling */\n",
              "    progress {\n",
              "        /* gets rid of default border in Firefox and Opera. */\n",
              "        border: none;\n",
              "        /* Needs to be in here for Safari polyfill so background images work as expected. */\n",
              "        background-size: auto;\n",
              "    }\n",
              "    progress:not([value]), progress:not([value])::-webkit-progress-bar {\n",
              "        background: repeating-linear-gradient(45deg, #7e7e7e, #7e7e7e 10px, #5c5c5c 10px, #5c5c5c 20px);\n",
              "    }\n",
              "    .progress-bar-interrupted, .progress-bar-interrupted::-webkit-progress-bar {\n",
              "        background: #F44336;\n",
              "    }\n",
              "</style>\n"
            ]
          },
          "metadata": {}
        },
        {
          "output_type": "display_data",
          "data": {
            "text/plain": [
              "<IPython.core.display.HTML object>"
            ],
            "text/html": []
          },
          "metadata": {}
        }
      ]
    },
    {
      "cell_type": "code",
      "source": [
        "lbl_pred = widgets.Label()\n",
        "lbl_pred.value = f'Prediction: {pred}; Probability: {probs[pred_idx]:.04f}'\n",
        "lbl_pred"
      ],
      "metadata": {
        "colab": {
          "base_uri": "https://localhost:8080/",
          "height": 49,
          "referenced_widgets": [
            "80d31da5220d486583a64ff0e682eff7",
            "c87bfca1f9354cff97a9382ed9d33677",
            "6b920d7709bd4e778e7e7fae7a5b4b58"
          ]
        },
        "id": "z_x0VXsyrbtJ",
        "outputId": "728db448-8c26-42d8-f849-e03d3b00595b"
      },
      "execution_count": 45,
      "outputs": [
        {
          "output_type": "display_data",
          "data": {
            "text/plain": [
              "Label(value='Prediction: melanoma; Probability: 0.5717')"
            ],
            "application/vnd.jupyter.widget-view+json": {
              "version_major": 2,
              "version_minor": 0,
              "model_id": "80d31da5220d486583a64ff0e682eff7"
            }
          },
          "metadata": {}
        }
      ]
    },
    {
      "cell_type": "code",
      "source": [
        "btn_run = widgets.Button(description='Classify')\n",
        "btn_run"
      ],
      "metadata": {
        "colab": {
          "base_uri": "https://localhost:8080/",
          "height": 49,
          "referenced_widgets": [
            "94f75113cc0342d3bf243ffeb9e8adbb",
            "ad2304df4f8d4ee7a84df01ec4c70c46",
            "fa7ec30882f44c888b159df1a701681c"
          ]
        },
        "id": "Mxrjjo40rh6R",
        "outputId": "85bc4830-33dc-43d5-9aa2-337939e036f2"
      },
      "execution_count": 46,
      "outputs": [
        {
          "output_type": "display_data",
          "data": {
            "text/plain": [
              "Button(description='Classify', style=ButtonStyle())"
            ],
            "application/vnd.jupyter.widget-view+json": {
              "version_major": 2,
              "version_minor": 0,
              "model_id": "94f75113cc0342d3bf243ffeb9e8adbb"
            }
          },
          "metadata": {}
        }
      ]
    },
    {
      "cell_type": "code",
      "source": [
        "def on_click_classify(change):\n",
        "    img = PILImage.create(btn_upload.data[-1])\n",
        "    out_pl.clear_output()\n",
        "    with out_pl: display(img.to_thumb(128,128))\n",
        "    pred,pred_idx,probs = learn_inf.predict(img)\n",
        "    lbl_pred.value = f'Prediction: {pred}; Probability: {probs[pred_idx]:.04f}'\n",
        "\n",
        "btn_run.on_click(on_click_classify)"
      ],
      "metadata": {
        "id": "eIZITqepro0c"
      },
      "execution_count": 47,
      "outputs": []
    },
    {
      "cell_type": "markdown",
      "source": [],
      "metadata": {
        "id": "jvneX8Dmrw1Q"
      }
    },
    {
      "cell_type": "code",
      "source": [
        "#hide\n",
        "#Putting back btn_upload to a widget for next cell\n",
        "btn_upload = widgets.FileUpload()"
      ],
      "metadata": {
        "id": "yqQR4dbXryV1"
      },
      "execution_count": 48,
      "outputs": []
    },
    {
      "cell_type": "code",
      "source": [
        "VBox([widgets.Label('Check your mole'),\n",
        "      btn_upload, btn_run, out_pl, lbl_pred])"
      ],
      "metadata": {
        "colab": {
          "base_uri": "https://localhost:8080/",
          "height": 230,
          "referenced_widgets": [
            "e4b31ca28afe46189424b6bad3656fb7",
            "21c40c0ef82445a9807521c20052b9ca",
            "f137263d949444f69c7f3634f6afa1e7",
            "94f75113cc0342d3bf243ffeb9e8adbb",
            "525213370ec344a396d7fe7680d6b1ac",
            "80d31da5220d486583a64ff0e682eff7",
            "d80efc4148e7474bab7a8d26df55bc2e",
            "6e248b944048420a852d7e0bddb2f4f4",
            "8f25c61f6a8642b99ae16e82e5814faa",
            "c1b7ff2f020249a583e28be0b372ad68",
            "2e2a750e4b0c4352bff5e63f10516791",
            "ad2304df4f8d4ee7a84df01ec4c70c46",
            "fa7ec30882f44c888b159df1a701681c",
            "c87bfca1f9354cff97a9382ed9d33677",
            "6b920d7709bd4e778e7e7fae7a5b4b58",
            "5b379b3f246d43a8aa839c12893b56ea"
          ]
        },
        "id": "PPCm7wZqr-mK",
        "outputId": "c69cdd9b-b335-4f1d-bbc4-c5dc8091d757"
      },
      "execution_count": 49,
      "outputs": [
        {
          "output_type": "display_data",
          "data": {
            "text/plain": [
              "VBox(children=(Label(value='Check your mole'), FileUpload(value={}, description='Upload'), Button(description=…"
            ],
            "application/vnd.jupyter.widget-view+json": {
              "version_major": 2,
              "version_minor": 0,
              "model_id": "e4b31ca28afe46189424b6bad3656fb7"
            }
          },
          "metadata": {}
        }
      ]
    },
    {
      "cell_type": "code",
      "source": [
        "!pip install voila\n",
        "!jupyter serverextension enable --sys-prefix voila"
      ],
      "metadata": {
        "colab": {
          "base_uri": "https://localhost:8080/",
          "height": 1000
        },
        "id": "zQZe-2f7tBVP",
        "outputId": "f4757530-f288-4548-84e1-95faeb9541f7"
      },
      "execution_count": 50,
      "outputs": [
        {
          "output_type": "stream",
          "name": "stdout",
          "text": [
            "Collecting voila\n",
            "  Downloading voila-0.5.4-py3-none-any.whl (3.3 MB)\n",
            "\u001b[2K     \u001b[90m━━━━━━━━━━━━━━━━━━━━━━━━━━━━━━━━━━━━━━━━\u001b[0m \u001b[32m3.3/3.3 MB\u001b[0m \u001b[31m35.0 MB/s\u001b[0m eta \u001b[36m0:00:00\u001b[0m\n",
            "\u001b[?25hCollecting jupyter-client<9,>=7.4.4 (from voila)\n",
            "  Downloading jupyter_client-8.4.0-py3-none-any.whl (103 kB)\n",
            "\u001b[2K     \u001b[90m━━━━━━━━━━━━━━━━━━━━━━━━━━━━━━━━━━━━━━━━\u001b[0m \u001b[32m104.0/104.0 kB\u001b[0m \u001b[31m15.9 MB/s\u001b[0m eta \u001b[36m0:00:00\u001b[0m\n",
            "\u001b[?25hRequirement already satisfied: jupyter-core>=4.11.0 in /usr/local/lib/python3.10/dist-packages (from voila) (5.4.0)\n",
            "Collecting jupyter-server<3,>=2.0.0 (from voila)\n",
            "  Downloading jupyter_server-2.7.3-py3-none-any.whl (375 kB)\n",
            "\u001b[2K     \u001b[90m━━━━━━━━━━━━━━━━━━━━━━━━━━━━━━━━━━━━━━━━\u001b[0m \u001b[32m375.6/375.6 kB\u001b[0m \u001b[31m43.0 MB/s\u001b[0m eta \u001b[36m0:00:00\u001b[0m\n",
            "\u001b[?25hCollecting jupyterlab-server<3,>=2.3.0 (from voila)\n",
            "  Downloading jupyterlab_server-2.25.0-py3-none-any.whl (57 kB)\n",
            "\u001b[2K     \u001b[90m━━━━━━━━━━━━━━━━━━━━━━━━━━━━━━━━━━━━━━━━\u001b[0m \u001b[32m57.2/57.2 kB\u001b[0m \u001b[31m7.0 MB/s\u001b[0m eta \u001b[36m0:00:00\u001b[0m\n",
            "\u001b[?25hCollecting nbclient<0.8,>=0.4.0 (from voila)\n",
            "  Downloading nbclient-0.7.4-py3-none-any.whl (73 kB)\n",
            "\u001b[2K     \u001b[90m━━━━━━━━━━━━━━━━━━━━━━━━━━━━━━━━━━━━━━━━\u001b[0m \u001b[32m73.1/73.1 kB\u001b[0m \u001b[31m8.8 MB/s\u001b[0m eta \u001b[36m0:00:00\u001b[0m\n",
            "\u001b[?25hRequirement already satisfied: nbconvert<8,>=6.4.5 in /usr/local/lib/python3.10/dist-packages (from voila) (6.5.4)\n",
            "Requirement already satisfied: traitlets<6,>=5.0.3 in /usr/local/lib/python3.10/dist-packages (from voila) (5.7.1)\n",
            "Collecting websockets>=9.0 (from voila)\n",
            "  Downloading websockets-11.0.3-cp310-cp310-manylinux_2_5_x86_64.manylinux1_x86_64.manylinux_2_17_x86_64.manylinux2014_x86_64.whl (129 kB)\n",
            "\u001b[2K     \u001b[90m━━━━━━━━━━━━━━━━━━━━━━━━━━━━━━━━━━━━━━━━\u001b[0m \u001b[32m129.9/129.9 kB\u001b[0m \u001b[31m15.7 MB/s\u001b[0m eta \u001b[36m0:00:00\u001b[0m\n",
            "\u001b[?25hRequirement already satisfied: python-dateutil>=2.8.2 in /usr/local/lib/python3.10/dist-packages (from jupyter-client<9,>=7.4.4->voila) (2.8.2)\n",
            "Requirement already satisfied: pyzmq>=23.0 in /usr/local/lib/python3.10/dist-packages (from jupyter-client<9,>=7.4.4->voila) (23.2.1)\n",
            "Requirement already satisfied: tornado>=6.2 in /usr/local/lib/python3.10/dist-packages (from jupyter-client<9,>=7.4.4->voila) (6.3.2)\n",
            "Requirement already satisfied: platformdirs>=2.5 in /usr/local/lib/python3.10/dist-packages (from jupyter-core>=4.11.0->voila) (3.11.0)\n",
            "Requirement already satisfied: anyio>=3.1.0 in /usr/local/lib/python3.10/dist-packages (from jupyter-server<3,>=2.0.0->voila) (3.7.1)\n",
            "Requirement already satisfied: argon2-cffi in /usr/local/lib/python3.10/dist-packages (from jupyter-server<3,>=2.0.0->voila) (23.1.0)\n",
            "Requirement already satisfied: jinja2 in /usr/local/lib/python3.10/dist-packages (from jupyter-server<3,>=2.0.0->voila) (3.1.2)\n",
            "Collecting jupyter-events>=0.6.0 (from jupyter-server<3,>=2.0.0->voila)\n",
            "  Downloading jupyter_events-0.7.0-py3-none-any.whl (18 kB)\n",
            "Collecting jupyter-server-terminals (from jupyter-server<3,>=2.0.0->voila)\n",
            "  Downloading jupyter_server_terminals-0.4.4-py3-none-any.whl (13 kB)\n",
            "Requirement already satisfied: nbformat>=5.3.0 in /usr/local/lib/python3.10/dist-packages (from jupyter-server<3,>=2.0.0->voila) (5.9.2)\n",
            "Collecting overrides (from jupyter-server<3,>=2.0.0->voila)\n",
            "  Downloading overrides-7.4.0-py3-none-any.whl (17 kB)\n",
            "Requirement already satisfied: packaging in /usr/local/lib/python3.10/dist-packages (from jupyter-server<3,>=2.0.0->voila) (23.2)\n",
            "Requirement already satisfied: prometheus-client in /usr/local/lib/python3.10/dist-packages (from jupyter-server<3,>=2.0.0->voila) (0.17.1)\n",
            "Collecting pyzmq>=23.0 (from jupyter-client<9,>=7.4.4->voila)\n",
            "  Downloading pyzmq-25.1.1-cp310-cp310-manylinux_2_28_x86_64.whl (1.1 MB)\n",
            "\u001b[2K     \u001b[90m━━━━━━━━━━━━━━━━━━━━━━━━━━━━━━━━━━━━━━━━\u001b[0m \u001b[32m1.1/1.1 MB\u001b[0m \u001b[31m83.1 MB/s\u001b[0m eta \u001b[36m0:00:00\u001b[0m\n",
            "\u001b[?25hRequirement already satisfied: send2trash>=1.8.2 in /usr/local/lib/python3.10/dist-packages (from jupyter-server<3,>=2.0.0->voila) (1.8.2)\n",
            "Requirement already satisfied: terminado>=0.8.3 in /usr/local/lib/python3.10/dist-packages (from jupyter-server<3,>=2.0.0->voila) (0.17.1)\n",
            "Requirement already satisfied: websocket-client in /usr/local/lib/python3.10/dist-packages (from jupyter-server<3,>=2.0.0->voila) (1.6.4)\n",
            "Requirement already satisfied: babel>=2.10 in /usr/local/lib/python3.10/dist-packages (from jupyterlab-server<3,>=2.3.0->voila) (2.13.0)\n",
            "Collecting json5>=0.9.0 (from jupyterlab-server<3,>=2.3.0->voila)\n",
            "  Downloading json5-0.9.14-py2.py3-none-any.whl (19 kB)\n",
            "Requirement already satisfied: jsonschema>=4.18.0 in /usr/local/lib/python3.10/dist-packages (from jupyterlab-server<3,>=2.3.0->voila) (4.19.1)\n",
            "Requirement already satisfied: requests>=2.31 in /usr/local/lib/python3.10/dist-packages (from jupyterlab-server<3,>=2.3.0->voila) (2.31.0)\n",
            "Requirement already satisfied: lxml in /usr/local/lib/python3.10/dist-packages (from nbconvert<8,>=6.4.5->voila) (4.9.3)\n",
            "Requirement already satisfied: beautifulsoup4 in /usr/local/lib/python3.10/dist-packages (from nbconvert<8,>=6.4.5->voila) (4.11.2)\n",
            "Requirement already satisfied: bleach in /usr/local/lib/python3.10/dist-packages (from nbconvert<8,>=6.4.5->voila) (6.1.0)\n",
            "Requirement already satisfied: defusedxml in /usr/local/lib/python3.10/dist-packages (from nbconvert<8,>=6.4.5->voila) (0.7.1)\n",
            "Requirement already satisfied: entrypoints>=0.2.2 in /usr/local/lib/python3.10/dist-packages (from nbconvert<8,>=6.4.5->voila) (0.4)\n",
            "Requirement already satisfied: jupyterlab-pygments in /usr/local/lib/python3.10/dist-packages (from nbconvert<8,>=6.4.5->voila) (0.2.2)\n",
            "Requirement already satisfied: MarkupSafe>=2.0 in /usr/local/lib/python3.10/dist-packages (from nbconvert<8,>=6.4.5->voila) (2.1.3)\n",
            "Requirement already satisfied: mistune<2,>=0.8.1 in /usr/local/lib/python3.10/dist-packages (from nbconvert<8,>=6.4.5->voila) (0.8.4)\n",
            "Requirement already satisfied: pandocfilters>=1.4.1 in /usr/local/lib/python3.10/dist-packages (from nbconvert<8,>=6.4.5->voila) (1.5.0)\n",
            "Requirement already satisfied: pygments>=2.4.1 in /usr/local/lib/python3.10/dist-packages (from nbconvert<8,>=6.4.5->voila) (2.16.1)\n",
            "Requirement already satisfied: tinycss2 in /usr/local/lib/python3.10/dist-packages (from nbconvert<8,>=6.4.5->voila) (1.2.1)\n",
            "Requirement already satisfied: idna>=2.8 in /usr/local/lib/python3.10/dist-packages (from anyio>=3.1.0->jupyter-server<3,>=2.0.0->voila) (3.4)\n",
            "Requirement already satisfied: sniffio>=1.1 in /usr/local/lib/python3.10/dist-packages (from anyio>=3.1.0->jupyter-server<3,>=2.0.0->voila) (1.3.0)\n",
            "Requirement already satisfied: exceptiongroup in /usr/local/lib/python3.10/dist-packages (from anyio>=3.1.0->jupyter-server<3,>=2.0.0->voila) (1.1.3)\n",
            "Requirement already satisfied: attrs>=22.2.0 in /usr/local/lib/python3.10/dist-packages (from jsonschema>=4.18.0->jupyterlab-server<3,>=2.3.0->voila) (23.1.0)\n",
            "Requirement already satisfied: jsonschema-specifications>=2023.03.6 in /usr/local/lib/python3.10/dist-packages (from jsonschema>=4.18.0->jupyterlab-server<3,>=2.3.0->voila) (2023.7.1)\n",
            "Requirement already satisfied: referencing>=0.28.4 in /usr/local/lib/python3.10/dist-packages (from jsonschema>=4.18.0->jupyterlab-server<3,>=2.3.0->voila) (0.30.2)\n",
            "Requirement already satisfied: rpds-py>=0.7.1 in /usr/local/lib/python3.10/dist-packages (from jsonschema>=4.18.0->jupyterlab-server<3,>=2.3.0->voila) (0.10.4)\n",
            "Collecting python-json-logger>=2.0.4 (from jupyter-events>=0.6.0->jupyter-server<3,>=2.0.0->voila)\n",
            "  Downloading python_json_logger-2.0.7-py3-none-any.whl (8.1 kB)\n",
            "Requirement already satisfied: pyyaml>=5.3 in /usr/local/lib/python3.10/dist-packages (from jupyter-events>=0.6.0->jupyter-server<3,>=2.0.0->voila) (6.0.1)\n",
            "Collecting rfc3339-validator (from jupyter-events>=0.6.0->jupyter-server<3,>=2.0.0->voila)\n",
            "  Downloading rfc3339_validator-0.1.4-py2.py3-none-any.whl (3.5 kB)\n",
            "Collecting rfc3986-validator>=0.1.1 (from jupyter-events>=0.6.0->jupyter-server<3,>=2.0.0->voila)\n",
            "  Downloading rfc3986_validator-0.1.1-py2.py3-none-any.whl (4.2 kB)\n",
            "Requirement already satisfied: fastjsonschema in /usr/local/lib/python3.10/dist-packages (from nbformat>=5.3.0->jupyter-server<3,>=2.0.0->voila) (2.18.1)\n",
            "Requirement already satisfied: six>=1.5 in /usr/local/lib/python3.10/dist-packages (from python-dateutil>=2.8.2->jupyter-client<9,>=7.4.4->voila) (1.16.0)\n",
            "Requirement already satisfied: charset-normalizer<4,>=2 in /usr/local/lib/python3.10/dist-packages (from requests>=2.31->jupyterlab-server<3,>=2.3.0->voila) (3.3.0)\n",
            "Requirement already satisfied: urllib3<3,>=1.21.1 in /usr/local/lib/python3.10/dist-packages (from requests>=2.31->jupyterlab-server<3,>=2.3.0->voila) (2.0.6)\n",
            "Requirement already satisfied: certifi>=2017.4.17 in /usr/local/lib/python3.10/dist-packages (from requests>=2.31->jupyterlab-server<3,>=2.3.0->voila) (2023.7.22)\n",
            "Requirement already satisfied: ptyprocess in /usr/local/lib/python3.10/dist-packages (from terminado>=0.8.3->jupyter-server<3,>=2.0.0->voila) (0.7.0)\n",
            "Requirement already satisfied: argon2-cffi-bindings in /usr/local/lib/python3.10/dist-packages (from argon2-cffi->jupyter-server<3,>=2.0.0->voila) (21.2.0)\n",
            "Requirement already satisfied: soupsieve>1.2 in /usr/local/lib/python3.10/dist-packages (from beautifulsoup4->nbconvert<8,>=6.4.5->voila) (2.5)\n",
            "Requirement already satisfied: webencodings in /usr/local/lib/python3.10/dist-packages (from bleach->nbconvert<8,>=6.4.5->voila) (0.5.1)\n",
            "Collecting fqdn (from jsonschema>=4.18.0->jupyterlab-server<3,>=2.3.0->voila)\n",
            "  Downloading fqdn-1.5.1-py3-none-any.whl (9.1 kB)\n",
            "Collecting isoduration (from jsonschema>=4.18.0->jupyterlab-server<3,>=2.3.0->voila)\n",
            "  Downloading isoduration-20.11.0-py3-none-any.whl (11 kB)\n",
            "Collecting jsonpointer>1.13 (from jsonschema>=4.18.0->jupyterlab-server<3,>=2.3.0->voila)\n",
            "  Downloading jsonpointer-2.4-py2.py3-none-any.whl (7.8 kB)\n",
            "Collecting uri-template (from jsonschema>=4.18.0->jupyterlab-server<3,>=2.3.0->voila)\n",
            "  Downloading uri_template-1.3.0-py3-none-any.whl (11 kB)\n",
            "Requirement already satisfied: webcolors>=1.11 in /usr/local/lib/python3.10/dist-packages (from jsonschema>=4.18.0->jupyterlab-server<3,>=2.3.0->voila) (1.13)\n",
            "Requirement already satisfied: cffi>=1.0.1 in /usr/local/lib/python3.10/dist-packages (from argon2-cffi-bindings->argon2-cffi->jupyter-server<3,>=2.0.0->voila) (1.16.0)\n",
            "Requirement already satisfied: pycparser in /usr/local/lib/python3.10/dist-packages (from cffi>=1.0.1->argon2-cffi-bindings->argon2-cffi->jupyter-server<3,>=2.0.0->voila) (2.21)\n",
            "Collecting arrow>=0.15.0 (from isoduration->jsonschema>=4.18.0->jupyterlab-server<3,>=2.3.0->voila)\n",
            "  Downloading arrow-1.3.0-py3-none-any.whl (66 kB)\n",
            "\u001b[2K     \u001b[90m━━━━━━━━━━━━━━━━━━━━━━━━━━━━━━━━━━━━━━━━\u001b[0m \u001b[32m66.4/66.4 kB\u001b[0m \u001b[31m10.6 MB/s\u001b[0m eta \u001b[36m0:00:00\u001b[0m\n",
            "\u001b[?25hCollecting types-python-dateutil>=2.8.10 (from arrow>=0.15.0->isoduration->jsonschema>=4.18.0->jupyterlab-server<3,>=2.3.0->voila)\n",
            "  Downloading types_python_dateutil-2.8.19.14-py3-none-any.whl (9.4 kB)\n",
            "Installing collected packages: types-python-dateutil, json5, websockets, uri-template, rfc3986-validator, rfc3339-validator, pyzmq, python-json-logger, overrides, jsonpointer, fqdn, jupyter-server-terminals, jupyter-client, arrow, isoduration, nbclient, jupyter-events, jupyter-server, jupyterlab-server, voila\n",
            "  Attempting uninstall: pyzmq\n",
            "    Found existing installation: pyzmq 23.2.1\n",
            "    Uninstalling pyzmq-23.2.1:\n",
            "      Successfully uninstalled pyzmq-23.2.1\n",
            "  Attempting uninstall: jupyter-client\n",
            "    Found existing installation: jupyter-client 6.1.12\n",
            "    Uninstalling jupyter-client-6.1.12:\n",
            "      Successfully uninstalled jupyter-client-6.1.12\n",
            "  Attempting uninstall: nbclient\n",
            "    Found existing installation: nbclient 0.8.0\n",
            "    Uninstalling nbclient-0.8.0:\n",
            "      Successfully uninstalled nbclient-0.8.0\n",
            "  Attempting uninstall: jupyter-server\n",
            "    Found existing installation: jupyter-server 1.24.0\n",
            "    Uninstalling jupyter-server-1.24.0:\n",
            "      Successfully uninstalled jupyter-server-1.24.0\n",
            "\u001b[31mERROR: pip's dependency resolver does not currently take into account all the packages that are installed. This behaviour is the source of the following dependency conflicts.\n",
            "notebook 6.5.5 requires jupyter-client<8,>=5.3.4, but you have jupyter-client 8.4.0 which is incompatible.\n",
            "notebook 6.5.5 requires pyzmq<25,>=17, but you have pyzmq 25.1.1 which is incompatible.\u001b[0m\u001b[31m\n",
            "\u001b[0mSuccessfully installed arrow-1.3.0 fqdn-1.5.1 isoduration-20.11.0 json5-0.9.14 jsonpointer-2.4 jupyter-client-8.4.0 jupyter-events-0.7.0 jupyter-server-2.7.3 jupyter-server-terminals-0.4.4 jupyterlab-server-2.25.0 nbclient-0.7.4 overrides-7.4.0 python-json-logger-2.0.7 pyzmq-25.1.1 rfc3339-validator-0.1.4 rfc3986-validator-0.1.1 types-python-dateutil-2.8.19.14 uri-template-1.3.0 voila-0.5.4 websockets-11.0.3\n"
          ]
        },
        {
          "output_type": "display_data",
          "data": {
            "application/vnd.colab-display-data+json": {
              "pip_warning": {
                "packages": [
                  "zmq"
                ]
              }
            }
          },
          "metadata": {}
        },
        {
          "output_type": "stream",
          "name": "stdout",
          "text": [
            "Enabling: voila\n",
            "- Writing config: /usr/etc/jupyter\n",
            "    - Validating...\n",
            "      voila 0.5.4 \u001b[32mOK\u001b[0m\n"
          ]
        }
      ]
    },
    {
      "cell_type": "code",
      "source": [],
      "metadata": {
        "id": "f50KAg0Dti1h"
      },
      "execution_count": null,
      "outputs": []
    }
  ]
}